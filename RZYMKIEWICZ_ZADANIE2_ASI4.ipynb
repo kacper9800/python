{
 "cells": [
  {
   "cell_type": "markdown",
   "metadata": {},
   "source": [
    "# Poc napisz 2 własne\n",
    "# 1.funkcja gamma (obraz, gamma)\n",
    "# dokonywać ma korekcji gamma\n",
    "# na koncu skalowanie przedzialu \n",
    "# porownanie z biblioteczna \n",
    "\n",
    "# 2. funkcja binaryzacja_dwuprogowa(obraz, prog dolny, gorny, inwersja)\n",
    "# inwersja-bool,true, false\n"
   ]
  },
  {
   "cell_type": "code",
   "execution_count": null,
   "metadata": {},
   "outputs": [],
   "source": [
    "import sys\n",
    "import matplotlib.pyplot as plt\n",
    "import numpy as np\n",
    "from skimage import exposure\n",
    "from skimage import io\n",
    "from skimage import data\n",
    "import cv2\n",
    "\n",
    "image = data.coins()"
   ]
  },
  {
   "cell_type": "code",
   "execution_count": null,
   "metadata": {},
   "outputs": [],
   "source": [
    "def show2imgs(im1, im2, title1='Obraz pierwszy', title2='Obraz drugi', size=(10,10)):\n",
    "\n",
    "    f, (ax1, ax2) = plt.subplots(1,2, figsize=size)\n",
    "    ax1.imshow(image, cmap='gray')\n",
    "    ax1.axis('off')\n",
    "    ax1.set_title(title1)\n",
    "\n",
    "    ax2.imshow(im2, cmap='gray')\n",
    "    ax2.axis('off')\n",
    "    ax2.set_title(title2)\n",
    "    \n",
    "    plt.show()"
   ]
  },
  {
   "cell_type": "markdown",
   "metadata": {},
   "source": [
    "# Funkcja Gamma"
   ]
  },
  {
   "cell_type": "code",
   "execution_count": null,
   "metadata": {},
   "outputs": [],
   "source": [
    "def funkcja_gamma(obraz,gamma):\n",
    "    img = np.array([[1,2],[3,4]])\n",
    "    obraz2 = np.stack((obraz))\n",
    "    \n",
    "    for i in range(obraz.shape[0]):      #\"Przjeście\" przez cały obraz \n",
    "        for j in range (obraz.shape[1]):    \n",
    "            if obraz2[i][j]>225:\n",
    "                obraz2[i][j]=255\n",
    "            else:\n",
    "                obraz2[i][j]=255*pow(obraz2[i][j]/255, gamma)\n",
    "        \n",
    "            \n",
    "    show2imgs(obraz, obraz2, title1='Obraz oryginalny', title2='Obraz po korekcji gamma', size=(10,10)) "
   ]
  },
  {
   "cell_type": "code",
   "execution_count": null,
   "metadata": {},
   "outputs": [],
   "source": [
    "gamma= 0.09\n",
    "funkcja_gamma(image,gamma)\n"
   ]
  },
  {
   "cell_type": "markdown",
   "metadata": {},
   "source": [
    "# Porównanie z funkcją wbudowaną"
   ]
  },
  {
   "cell_type": "code",
   "execution_count": null,
   "metadata": {},
   "outputs": [],
   "source": [
    "obraz3 = exposure.adjust_gamma(image, gamma=gamma)\n",
    "show2imgs(image, obraz3, title1='Obraz oryginalny', title2='Obraz po korekcji gamma za pomocą funkcji z exposure', size=(10,10)) "
   ]
  },
  {
   "cell_type": "markdown",
   "metadata": {},
   "source": [
    "# Funkcja binaryzacyjna"
   ]
  },
  {
   "cell_type": "code",
   "execution_count": null,
   "metadata": {},
   "outputs": [],
   "source": [
    "def funkcja_binaryzacyjna(obraz,pr_dol,pr_gor,inw):\n",
    "    img = np.array([[1,2],[3,4]])\n",
    "    obraz2 = np.stack((obraz))\n",
    "    \n",
    "    if inw==False:\n",
    "        for i in range(obraz.shape[0]): \n",
    "            for j in range (obraz.shape[1]):    \n",
    "                if obraz2[i][j]>pr_dol and obraz2[i][j]<pr_gor:\n",
    "                    obraz2[i][j]=1\n",
    "                else:\n",
    "                    obraz2[i][j]=0\n",
    "    else:\n",
    "        for i in range(obraz.shape[0]):\n",
    "            for j in range (obraz.shape[1]):    \n",
    "                if obraz2[i][j]>pr_dol and obraz2[i][j]<pr_gor:\n",
    "                    obraz2[i][j]=0\n",
    "                else:\n",
    "                    obraz2[i][j]=1\n",
    "                    \n",
    "    show2imgs(obraz,obraz2, title1='Obraz oryginalny', title2='Obraz po binaryzacji', size=(10,10))"
   ]
  },
  {
   "cell_type": "markdown",
   "metadata": {},
   "source": [
    "# Inwersja włączona"
   ]
  },
  {
   "cell_type": "code",
   "execution_count": null,
   "metadata": {},
   "outputs": [],
   "source": [
    "funkcja_binaryzacyjna(image,20,200,True)"
   ]
  },
  {
   "cell_type": "markdown",
   "metadata": {},
   "source": [
    "# Inwersja wyłączona"
   ]
  },
  {
   "cell_type": "code",
   "execution_count": null,
   "metadata": {},
   "outputs": [],
   "source": [
    "funkcja_binaryzacyjna(image,20,200,False)"
   ]
  }
 ],
 "metadata": {
  "kernelspec": {
   "display_name": "Python 3",
   "language": "python",
   "name": "python3"
  },
  "language_info": {
   "codemirror_mode": {
    "name": "ipython",
    "version": 3
   },
   "file_extension": ".py",
   "mimetype": "text/x-python",
   "name": "python",
   "nbconvert_exporter": "python",
   "pygments_lexer": "ipython3",
   "version": "3.7.0"
  }
 },
 "nbformat": 4,
 "nbformat_minor": 2
}
