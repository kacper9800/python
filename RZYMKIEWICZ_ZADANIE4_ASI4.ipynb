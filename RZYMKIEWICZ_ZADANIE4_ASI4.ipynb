{
 "cells": [
  {
   "cell_type": "markdown",
   "metadata": {},
   "source": [
    "# Kacper Rzymkiewicz\n",
    "# ASI 4\n",
    "# ZADANIE NR.4"
   ]
  },
  {
   "cell_type": "code",
   "execution_count": 54,
   "metadata": {},
   "outputs": [],
   "source": [
    "from skimage import io, color, img_as_ubyte, util, data\n",
    "import numpy as np\n",
    "import cv2\n",
    "import matplotlib.pyplot as plt\n",
    "import warnings\n",
    "import matplotlib.pyplot as plt\n",
    "from matplotlib.colors import LinearSegmentedColormap\n",
    "warnings.filterwarnings('ignore')\n",
    "\n",
    "url = 'pattern2.png'\n",
    "p = io.imread(url)\n",
    "p = color.rgb2gray(p)\n",
    "p = img_as_ubyte(p) \n",
    "p = util.invert(p)\n",
    "\n",
    "th = 150\n",
    "th, image = cv2.threshold(p, thresh=th, maxval=255, type=cv2.THRESH_BINARY_INV)"
   ]
  },
  {
   "cell_type": "code",
   "execution_count": 55,
   "metadata": {},
   "outputs": [],
   "source": [
    "def show2imgs(im1, im2, title1='Obraz pierwszy', title2='Obraz drugi', size=(20,20)):\n",
    "    \n",
    "    _, (ax1, ax2) = plt.subplots(1,2, figsize=size)\n",
    "    ax1.imshow(im1, cmap='gray')\n",
    "    ax1.axis('off')\n",
    "    ax1.set_title(title1)\n",
    "\n",
    "    ax2.imshow(im2, cmap='gray')\n",
    "    ax2.axis('off')\n",
    "    ax2.set_title(title2)\n",
    "    plt.show()"
   ]
  },
  {
   "cell_type": "code",
   "execution_count": 56,
   "metadata": {},
   "outputs": [],
   "source": [
    "def Spr(i,j,obraz):\n",
    "    \n",
    "    return i >= 0 and i < obraz.shape[0] and j >=0 and j < obraz.shape[1]\n",
    "\n",
    "def Wyszukiwanie(i,j,obraz,c):\n",
    "    cc = [(i,j)]\n",
    "    while cc:\n",
    "        ii,jj = cc.pop(0)\n",
    "        for xx in range(-1,2):\n",
    "            for yy in range(-1,2):\n",
    "                if xx == 0 and yy == 0:\n",
    "                    continue\n",
    "                a=ii+xx\n",
    "                b=jj+yy\n",
    "                if Spr(a,b,obraz) and obraz[a][b] == 0:\n",
    "                    obraz[a][b] = c\n",
    "                    cc.append((a,b))"
   ]
  },
  {
   "cell_type": "code",
   "execution_count": 57,
   "metadata": {},
   "outputs": [],
   "source": [
    "def Znajdz(obraz):\n",
    "    licznik = 20\n",
    "    for i in range(obraz.shape[0]):\n",
    "        for j in range(obraz.shape[1]):\n",
    "            x = obraz[i][j]\n",
    "            if x == 0:\n",
    "                obraz[i][j] = licznik\n",
    "                Wyszukiwanie(i,j,obraz,licznik)\n",
    "                licznik += 65\n",
    "    return obraz"
   ]
  },
  {
   "cell_type": "code",
   "execution_count": 58,
   "metadata": {},
   "outputs": [],
   "source": [
    "def LiczbaObiektow(im):\n",
    "    zb = set()\n",
    "    left, right = im.shape[0] , im.shape[1]\n",
    "    for i in range(1,left - 1):\n",
    "        for j in range(1,right - 1):\n",
    "            if im[i][j] != 255:\n",
    "                zb.add(im[i][j])\n",
    "                \n",
    "    return len(zb)"
   ]
  },
  {
   "cell_type": "code",
   "execution_count": 59,
   "metadata": {},
   "outputs": [
    {
     "name": "stdout",
     "output_type": "stream",
     "text": [
      "3\n"
     ]
    }
   ],
   "source": [
    "image2 = Znajdz(image)\n",
    "print(LiczbaObiektow(image2))"
   ]
  },
  {
   "cell_type": "code",
   "execution_count": 60,
   "metadata": {},
   "outputs": [
    {
     "data": {
      "image/png": "[encoded data removed]",
      "text/plain": [
       "<Figure size 1440x1440 with 2 Axes>"
      ]
     },
     "metadata": {
      "needs_background": "light"
     },
     "output_type": "display_data"
    }
   ],
   "source": [
    "image3 = cv2.applyColorMap(image2, cv2.COLORMAP_AUTUMN)\n",
    "show2imgs(p, image3)"
   ]
  }
 ],
 "metadata": {
  "kernelspec": {
   "display_name": "Python 3",
   "language": "python",
   "name": "python3"
  },
  "language_info": {
   "codemirror_mode": {
    "name": "ipython",
    "version": 3
   },
   "file_extension": ".py",
   "mimetype": "text/x-python",
   "name": "python",
   "nbconvert_exporter": "python",
   "pygments_lexer": "ipython3",
   "version": "3.7.0"
  }
 },
 "nbformat": 4,
 "nbformat_minor": 2
}
